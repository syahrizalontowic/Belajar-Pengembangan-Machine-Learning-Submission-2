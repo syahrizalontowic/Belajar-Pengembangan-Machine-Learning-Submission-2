{
  "nbformat": 4,
  "nbformat_minor": 0,
  "metadata": {
    "colab": {
      "name": "Submission_2_NLP_Electricity_Consumption.ipynb",
      "provenance": [],
      "collapsed_sections": []
    },
    "kernelspec": {
      "name": "python3",
      "display_name": "Python 3"
    }
  },
  "cells": [
    {
      "cell_type": "code",
      "metadata": {
        "id": "u3fohzJJt97N",
        "outputId": "6b62915a-41cd-49f5-b6b8-da4ba7b64176",
        "colab": {
          "base_uri": "https://localhost:8080/",
          "height": 35
        }
      },
      "source": [
        "# Untuk mengupload dari drive lokal \n",
        "from google.colab import drive\n",
        "drive.mount('/content/drive/')"
      ],
      "execution_count": 1,
      "outputs": [
        {
          "output_type": "stream",
          "text": [
            "Mounted at /content/drive/\n"
          ],
          "name": "stdout"
        }
      ]
    },
    {
      "cell_type": "code",
      "metadata": {
        "id": "DwJy0slkuBRG"
      },
      "source": [
        "!pip install -q keras"
      ],
      "execution_count": 2,
      "outputs": []
    },
    {
      "cell_type": "code",
      "metadata": {
        "id": "FFRKRwG4uEQN"
      },
      "source": [
        "# Impor library yang di perlukan\n",
        "import keras\n",
        "import numpy as np\n",
        "import pandas as pd\n",
        "from keras.layers import Bidirectional\n",
        "from keras.layers import Dense, LSTM, Dropout\n",
        "import matplotlib.pyplot as plt\n",
        "import tensorflow as tf"
      ],
      "execution_count": 3,
      "outputs": []
    },
    {
      "cell_type": "code",
      "metadata": {
        "id": "Di1j5imiuJ5V",
        "outputId": "295d11a1-963e-4852-f5aa-4cc5b0ef95e8",
        "colab": {
          "base_uri": "https://localhost:8080/",
          "height": 194
        }
      },
      "source": [
        "# Ubah dataset menjadi dataframe dengan fungsi read_csv(). \n",
        "# Tampilkan 5 data teratas pada dataframe menggunakan fungsi head().\n",
        "data_train = pd.read_csv('/content/drive/My Drive/Colab Notebooks/Dataset/Electricity Consumption/train.csv')\n",
        "data_train.head()"
      ],
      "execution_count": 4,
      "outputs": [
        {
          "output_type": "execute_result",
          "data": {
            "text/html": [
              "<div>\n",
              "<style scoped>\n",
              "    .dataframe tbody tr th:only-of-type {\n",
              "        vertical-align: middle;\n",
              "    }\n",
              "\n",
              "    .dataframe tbody tr th {\n",
              "        vertical-align: top;\n",
              "    }\n",
              "\n",
              "    .dataframe thead th {\n",
              "        text-align: right;\n",
              "    }\n",
              "</style>\n",
              "<table border=\"1\" class=\"dataframe\">\n",
              "  <thead>\n",
              "    <tr style=\"text-align: right;\">\n",
              "      <th></th>\n",
              "      <th>ID</th>\n",
              "      <th>datetime</th>\n",
              "      <th>temperature</th>\n",
              "      <th>var1</th>\n",
              "      <th>pressure</th>\n",
              "      <th>windspeed</th>\n",
              "      <th>var2</th>\n",
              "      <th>electricity_consumption</th>\n",
              "    </tr>\n",
              "  </thead>\n",
              "  <tbody>\n",
              "    <tr>\n",
              "      <th>0</th>\n",
              "      <td>0</td>\n",
              "      <td>2013-07-01 00:00:00</td>\n",
              "      <td>-11.4</td>\n",
              "      <td>-17.1</td>\n",
              "      <td>1003.0</td>\n",
              "      <td>571.910</td>\n",
              "      <td>A</td>\n",
              "      <td>216.0</td>\n",
              "    </tr>\n",
              "    <tr>\n",
              "      <th>1</th>\n",
              "      <td>1</td>\n",
              "      <td>2013-07-01 01:00:00</td>\n",
              "      <td>-12.1</td>\n",
              "      <td>-19.3</td>\n",
              "      <td>996.0</td>\n",
              "      <td>575.040</td>\n",
              "      <td>A</td>\n",
              "      <td>210.0</td>\n",
              "    </tr>\n",
              "    <tr>\n",
              "      <th>2</th>\n",
              "      <td>2</td>\n",
              "      <td>2013-07-01 02:00:00</td>\n",
              "      <td>-12.9</td>\n",
              "      <td>-20.0</td>\n",
              "      <td>1000.0</td>\n",
              "      <td>578.435</td>\n",
              "      <td>A</td>\n",
              "      <td>225.0</td>\n",
              "    </tr>\n",
              "    <tr>\n",
              "      <th>3</th>\n",
              "      <td>3</td>\n",
              "      <td>2013-07-01 03:00:00</td>\n",
              "      <td>-11.4</td>\n",
              "      <td>-17.1</td>\n",
              "      <td>995.0</td>\n",
              "      <td>582.580</td>\n",
              "      <td>A</td>\n",
              "      <td>216.0</td>\n",
              "    </tr>\n",
              "    <tr>\n",
              "      <th>4</th>\n",
              "      <td>4</td>\n",
              "      <td>2013-07-01 04:00:00</td>\n",
              "      <td>-11.4</td>\n",
              "      <td>-19.3</td>\n",
              "      <td>1005.0</td>\n",
              "      <td>586.600</td>\n",
              "      <td>A</td>\n",
              "      <td>222.0</td>\n",
              "    </tr>\n",
              "  </tbody>\n",
              "</table>\n",
              "</div>"
            ],
            "text/plain": [
              "   ID             datetime  ...  var2  electricity_consumption\n",
              "0   0  2013-07-01 00:00:00  ...     A                    216.0\n",
              "1   1  2013-07-01 01:00:00  ...     A                    210.0\n",
              "2   2  2013-07-01 02:00:00  ...     A                    225.0\n",
              "3   3  2013-07-01 03:00:00  ...     A                    216.0\n",
              "4   4  2013-07-01 04:00:00  ...     A                    222.0\n",
              "\n",
              "[5 rows x 8 columns]"
            ]
          },
          "metadata": {
            "tags": []
          },
          "execution_count": 4
        }
      ]
    },
    {
      "cell_type": "code",
      "metadata": {
        "id": "oikeM81P6dS1",
        "outputId": "78047f85-e3be-4733-bbbd-f3b51754e0e9",
        "colab": {
          "base_uri": "https://localhost:8080/",
          "height": 284
        }
      },
      "source": [
        "# Untuk menampilkan jumlah colomns dan data\n",
        "data_train.info()"
      ],
      "execution_count": 5,
      "outputs": [
        {
          "output_type": "stream",
          "text": [
            "<class 'pandas.core.frame.DataFrame'>\n",
            "RangeIndex: 26496 entries, 0 to 26495\n",
            "Data columns (total 8 columns):\n",
            " #   Column                   Non-Null Count  Dtype  \n",
            "---  ------                   --------------  -----  \n",
            " 0   ID                       26496 non-null  int64  \n",
            " 1   datetime                 26496 non-null  object \n",
            " 2   temperature              26496 non-null  float64\n",
            " 3   var1                     26496 non-null  float64\n",
            " 4   pressure                 26496 non-null  float64\n",
            " 5   windspeed                26496 non-null  float64\n",
            " 6   var2                     26496 non-null  object \n",
            " 7   electricity_consumption  26496 non-null  float64\n",
            "dtypes: float64(5), int64(1), object(2)\n",
            "memory usage: 1.6+ MB\n"
          ],
          "name": "stdout"
        }
      ]
    },
    {
      "cell_type": "code",
      "metadata": {
        "id": "4H1hjsp86g5t",
        "outputId": "ac7890d4-9b51-4117-be71-6005f9259cd0",
        "colab": {
          "base_uri": "https://localhost:8080/",
          "height": 177
        }
      },
      "source": [
        "# Mengecek apakah ada nilai yang hilang dari dataset menggunakan fungsi isnull().\n",
        "data_train.isnull().sum()"
      ],
      "execution_count": 6,
      "outputs": [
        {
          "output_type": "execute_result",
          "data": {
            "text/plain": [
              "ID                         0\n",
              "datetime                   0\n",
              "temperature                0\n",
              "var1                       0\n",
              "pressure                   0\n",
              "windspeed                  0\n",
              "var2                       0\n",
              "electricity_consumption    0\n",
              "dtype: int64"
            ]
          },
          "metadata": {
            "tags": []
          },
          "execution_count": 6
        }
      ]
    },
    {
      "cell_type": "code",
      "metadata": {
        "id": "eB7RFaAXaz8-",
        "outputId": "26349be6-cd35-4c98-aeda-2e25ecc60b05",
        "colab": {
          "base_uri": "https://localhost:8080/",
          "height": 248
        }
      },
      "source": [
        "date = data_train['datetime']\n",
        "temp = data_train['temperature']\n",
        "print(temp.shape)\n",
        "print(temp)"
      ],
      "execution_count": 7,
      "outputs": [
        {
          "output_type": "stream",
          "text": [
            "(26496,)\n",
            "0       -11.4\n",
            "1       -12.1\n",
            "2       -12.9\n",
            "3       -11.4\n",
            "4       -11.4\n",
            "         ... \n",
            "26491    -0.7\n",
            "26492    -2.9\n",
            "26493    -1.4\n",
            "26494    -2.9\n",
            "26495    -2.1\n",
            "Name: temperature, Length: 26496, dtype: float64\n"
          ],
          "name": "stdout"
        }
      ]
    },
    {
      "cell_type": "code",
      "metadata": {
        "id": "iIMw1LMp5iHR",
        "outputId": "225ab606-4bfd-408f-cdc0-08f8b0621181",
        "colab": {
          "base_uri": "https://localhost:8080/",
          "height": 449
        }
      },
      "source": [
        "# Untuk membuat plot dari data kita dapat menggunakan fungsi plot dari library matplotlib.\n",
        "# Output cell yang kita jalankan menunjukkan bahwa data kita merupakan time series yang bersifat penggunaan.\n",
        "date = data_train['datetime'].values\n",
        "temp = data_train['temperature'].values\n",
        "\n",
        "plt.figure(figsize=(20,7))\n",
        "plt.plot(date, temp)\n",
        "plt.title('Temperature Average',\n",
        "          fontsize=20);"
      ],
      "execution_count": 8,
      "outputs": [
        {
          "output_type": "display_data",
          "data": {
            "image/png": "[encoded data removed]",
            "text/plain": [
              "<Figure size 1440x504 with 1 Axes>"
            ]
          },
          "metadata": {
            "tags": [],
            "needs_background": "light"
          }
        }
      ]
    },
    {
      "cell_type": "code",
      "metadata": {
        "id": "Qwrz-JPNZTy-"
      },
      "source": [
        "# Split jadi train-test\n",
        "from sklearn.model_selection import train_test_split\n",
        "X_train, X_test, y_train, y_test = train_test_split(date, temp, test_size=0.2)"
      ],
      "execution_count": 9,
      "outputs": []
    },
    {
      "cell_type": "code",
      "metadata": {
        "id": "d3o-AIW7ZdVc",
        "outputId": "4dfa126a-e8c6-4a67-8448-e67e34b314e2",
        "colab": {
          "base_uri": "https://localhost:8080/",
          "height": 177
        }
      },
      "source": [
        "# Konversi teks ke tfidf\n",
        "from keras.preprocessing.text import Tokenizer\n",
        "from tensorflow.keras.preprocessing.sequence import pad_sequences\n",
        "\n",
        "tokenizer = Tokenizer()\n",
        "# Fit hanya berdasarkan data train\n",
        "tokenizer.fit_on_texts(X_train)\n",
        "# Konversi train\n",
        "seq_x_train = tokenizer.texts_to_sequences(X_train)\n",
        "X_enc_train = tokenizer.sequences_to_matrix(seq_x_train,mode=\"tfidf\")\n",
        "# Konversi test\n",
        "seq_x_test  = tokenizer.texts_to_sequences(X_test)\n",
        "X_enc_test  = tokenizer.sequences_to_matrix(seq_x_test,mode=\"tfidf\")\n",
        " \n",
        "print(X_enc_train.shape)\n",
        "print(X_enc_test.shape)\n",
        "print(X_enc_train)"
      ],
      "execution_count": 10,
      "outputs": [
        {
          "output_type": "stream",
          "text": [
            "(21196, 30)\n",
            "(5300, 30)\n",
            "[[0.         1.17356026 0.         ... 0.         0.         2.5798855 ]\n",
            " [0.         1.17356026 0.         ... 0.         0.         0.        ]\n",
            " [0.         1.17356026 0.         ... 0.         0.         0.        ]\n",
            " ...\n",
            " [0.         1.17356026 0.         ... 0.         0.         0.        ]\n",
            " [0.         1.17356026 0.         ... 0.         0.         0.        ]\n",
            " [0.         1.17356026 0.         ... 0.         0.         0.        ]]\n"
          ],
          "name": "stdout"
        }
      ]
    },
    {
      "cell_type": "code",
      "metadata": {
        "id": "Il4SmBpCuqA4"
      },
      "source": [
        "# Untuk merubah data kita menjadi format yang dapat diterima oleh model. \n",
        "# Fungsi di bawah menerima sebuah series/atribut kita yang telah di konversi menjadi tipe numpy, \n",
        "# Kemudian mengembalikan label dan atribut dari dataset dalam bentuk batch.\n",
        "def windowed_dataset(series, window_size, batch_size, shuffle_buffer):\n",
        "    series = tf.expand_dims(series, axis=-1)\n",
        "    ds = tf.data.Dataset.from_tensor_slices(series)\n",
        "    ds = ds.window(window_size + 1, shift=1, drop_remainder=True)\n",
        "    ds = ds.flat_map(lambda w: w.batch(window_size + 1))\n",
        "    ds = ds.shuffle(shuffle_buffer)\n",
        "    ds = ds.map(lambda w: (w[:-1], w[-1:]))\n",
        "    return ds.batch(batch_size).prefetch(1)"
      ],
      "execution_count": 11,
      "outputs": []
    },
    {
      "cell_type": "code",
      "metadata": {
        "id": "BuhJRubXuxN0"
      },
      "source": [
        "# Untuk arsitektur model gunakan 2 buah layer LSTM.\n",
        "# Ketika menggunakan 2 buah layer LSTM, perhatikan bahwa layer pertama harus memiliki parameter return_sequences yang bernilai True.\n",
        "train_set = windowed_dataset(temp, window_size=60, batch_size=100, shuffle_buffer=1000)\n",
        "test_set = windowed_dataset(temp, window_size=60, batch_size=100, shuffle_buffer=1000)\n",
        "\n",
        "model = tf.keras.models.Sequential([\n",
        "    tf.keras.layers.Bidirectional(tf.keras.layers.LSTM(60, return_sequences=True)),\n",
        "    tf.keras.layers.Bidirectional(tf.keras.layers.LSTM(60)),\n",
        "    tf.keras.layers.Dropout(0.5),\n",
        "    tf.keras.layers.Dropout(0.5),\n",
        "    tf.keras.layers.Dense(120, activation='relu'),\n",
        "    tf.keras.layers.Dense(60, activation='relu'),\n",
        "    tf.keras.layers.Dense(30, activation='relu'),\n",
        "    tf.keras.layers.Dense(1)\n",
        "])"
      ],
      "execution_count": 12,
      "outputs": []
    },
    {
      "cell_type": "code",
      "metadata": {
        "id": "j_ZT_bXvu6W4"
      },
      "source": [
        "# Pada optimizer, kita akan menggunakan parameter learning rate dan momentum\n",
        "# Loss function yang dapat dicoba untuk ini adalah Huber yang merupakan salah satu loss function yang umum digunakan pada kasus time series.\n",
        "# Serta metrik yang digunakan untuk mengevaluasi model adalah MAE.\n",
        "optimizer = tf.keras.optimizers.SGD(lr=1.0000e-03, momentum=0.9)\n",
        "model.compile(loss=tf.keras.losses.Huber(),\n",
        "              optimizer=optimizer,\n",
        "              metrics=[\"mae\"])"
      ],
      "execution_count": 13,
      "outputs": []
    },
    {
      "cell_type": "code",
      "metadata": {
        "id": "51HCn63ru8mU",
        "outputId": "70e1c2c3-1231-415f-dcae-67ba29ba9f39",
        "colab": {
          "base_uri": "https://localhost:8080/",
          "height": 88
        }
      },
      "source": [
        "# Untuk mengetahui nilai data rata-rata, terkecil, dan terbesar pada colom AEP_MW\n",
        "temp = np.array(data_train['temperature'])\n",
        "print(temp)\n",
        "print(\"temperature terkecil:    \", temp.min())\n",
        "print(\"temperature terbesar:    \", temp.max())\n",
        "print(\"temperature rata-rata:   \", temp.mean())"
      ],
      "execution_count": 14,
      "outputs": [
        {
          "output_type": "stream",
          "text": [
            "[-11.4 -12.1 -12.9 ...  -1.4  -2.9  -2.1]\n",
            "temperature terkecil:     -17.1\n",
            "temperature terbesar:     23.6\n",
            "temperature rata-rata:    5.098988526570049\n"
          ],
          "name": "stdout"
        }
      ]
    },
    {
      "cell_type": "code",
      "metadata": {
        "id": "AriOMlONvR1R"
      },
      "source": [
        "# Mengimplementasikan callback\n",
        "class stopTraining(tf.keras.callbacks.Callback):\n",
        "  def on_epoch_end(self, epoch, logs={}):\n",
        "    if(logs.get('mae') is not None and logs.get('mae') <= 4.07):  \n",
        "      # Do something else\n",
        "      self.model.stop_training = True\n",
        "\n",
        "custom_callback = stopTraining()"
      ],
      "execution_count": 15,
      "outputs": []
    },
    {
      "cell_type": "code",
      "metadata": {
        "id": "TiFtpyqah3Lg",
        "outputId": "9c876137-35c6-4e1c-e17f-fd52e1d9e2e4",
        "colab": {
          "base_uri": "https://localhost:8080/",
          "height": 286
        }
      },
      "source": [
        "# Menggunakan 30 epoch. atau bebas bereksperimen dengan nilai yang lain\n",
        "# Mulai melatih model kita dengan memanggil fungsi fit()\n",
        "num_epochs = 30\n",
        "history = model.fit(train_set, epochs=num_epochs, batch_size=2, steps_per_epoch=30, \n",
        "                    validation_data=test_set, callbacks=[custom_callback])"
      ],
      "execution_count": 16,
      "outputs": [
        {
          "output_type": "stream",
          "text": [
            "Epoch 1/30\n",
            "WARNING:tensorflow:Layer bidirectional is casting an input tensor from dtype float64 to the layer's dtype of float32, which is new behavior in TensorFlow 2.  The layer has dtype float32 because its dtype defaults to floatx.\n",
            "\n",
            "If you intended to run this layer in float32, you can safely ignore this warning. If in doubt, this warning is likely only an issue if you are porting a TensorFlow 1.X model to TensorFlow 2.\n",
            "\n",
            "To change all layers to have dtype float64 by default, call `tf.keras.backend.set_floatx('float64')`. To change just this layer, pass dtype='float64' to the layer constructor. If you are the author of this layer, you can disable autocasting by passing autocast=False to the base Layer constructor.\n",
            "\n",
            "30/30 [==============================] - 27s 888ms/step - loss: 7.4903 - mae: 7.9775 - val_loss: 7.8847 - val_mae: 8.3747\n",
            "Epoch 2/30\n",
            "30/30 [==============================] - 29s 953ms/step - loss: 8.3055 - mae: 8.7973 - val_loss: 6.4094 - val_mae: 6.8985\n",
            "Epoch 3/30\n",
            "30/30 [==============================] - 25s 829ms/step - loss: 4.5664 - mae: 5.0503 - val_loss: 3.7954 - val_mae: 4.2742\n",
            "Epoch 4/30\n",
            "30/30 [==============================] - 25s 845ms/step - loss: 3.3020 - mae: 3.7764 - val_loss: 3.8776 - val_mae: 4.3576\n"
          ],
          "name": "stdout"
        }
      ]
    },
    {
      "cell_type": "code",
      "metadata": {
        "id": "Fl1ctntuuEWV",
        "outputId": "1bb236c1-27a3-4ac6-ace1-56fafe94b684",
        "colab": {
          "base_uri": "https://localhost:8080/",
          "height": 70
        }
      },
      "source": [
        "# Menguji akurasi prediksi model pada data uji val_loss & val_mae\n",
        "results = model.evaluate(test_set,)\n",
        "print(\"Hasil  [val_loss,val_mae] untuk data test:\")\n",
        "print(results)"
      ],
      "execution_count": 17,
      "outputs": [
        {
          "output_type": "stream",
          "text": [
            "265/265 [==============================] - 20s 75ms/step - loss: 3.8776 - mae: 4.3576\n",
            "Hasil  [val_loss,val_mae] untuk data test:\n",
            "[3.877629280090332, 4.3575615882873535]\n"
          ],
          "name": "stdout"
        }
      ]
    },
    {
      "cell_type": "code",
      "metadata": {
        "id": "0JjqmWPvPwFD",
        "outputId": "8c601d3a-cbfe-4bd6-8990-932a15d6bb98",
        "colab": {
          "base_uri": "https://localhost:8080/",
          "height": 499
        }
      },
      "source": [
        "# Membuat plot mae atau loss dari model. Kode di bawah menunjukkan bagaimana kita bisa membuat plot loss dan mae dari model\n",
        "mae = history.history['mae']\n",
        "val_mae = history.history['val_mae']\n",
        "loss = history.history['loss']\n",
        "val_loss = history.history['val_loss']\n",
        "\n",
        "epochs_range = range(4)\n",
        "\n",
        "plt.figure(figsize=(8, 8))\n",
        "plt.subplot(1, 2, 1)\n",
        "plt.plot(epochs_range, mae, 'r', label='Mae')\n",
        "plt.plot(epochs_range, val_mae, 'b', label='Validation Mae')\n",
        "plt.legend(loc='lower left')\n",
        "plt.title('Mae and Validation Mae')\n",
        "\n",
        "plt.subplot(1, 2, 2)\n",
        "plt.plot(epochs_range, loss, 'r', label='Loss')\n",
        "plt.plot(epochs_range, val_loss, 'b', label='Validation Loss')\n",
        "plt.legend(loc='upper right')\n",
        "plt.title('Loss and Validation Loss')\n",
        "plt.show()"
      ],
      "execution_count": 18,
      "outputs": [
        {
          "output_type": "display_data",
          "data": {
            "image/png": "[encoded data removed]",
            "text/plain": [
              "<Figure size 576x576 with 2 Axes>"
            ]
          },
          "metadata": {
            "tags": [],
            "needs_background": "light"
          }
        }
      ]
    }
  ]
}